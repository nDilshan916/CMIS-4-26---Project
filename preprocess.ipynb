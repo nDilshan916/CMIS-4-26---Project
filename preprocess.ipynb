{
 "cells": [
  {
   "cell_type": "code",
   "execution_count": null,
   "id": "6464f6e8",
   "metadata": {},
   "outputs": [],
   "source": [
    "import numpy as np\n",
    "import matplotlib.pyplot as plt\n",
    "import pandas as pd"
   ]
  },
  {
   "cell_type": "code",
   "execution_count": null,
   "id": "851a811a",
   "metadata": {},
   "outputs": [],
   "source": [
    "df = pd.read_excel('final_data2.xlsx')\n",
    "df.head(25)"
   ]
  },
  {
   "cell_type": "code",
   "execution_count": null,
   "id": "ab819e7b",
   "metadata": {},
   "outputs": [],
   "source": [
    "df.info()"
   ]
  },
  {
   "cell_type": "code",
   "execution_count": null,
   "id": "1454e8ff",
   "metadata": {},
   "outputs": [],
   "source": [
    "df['English_Oral'].unique()"
   ]
  },
  {
   "cell_type": "code",
   "execution_count": null,
   "id": "70abc6c3",
   "metadata": {},
   "outputs": [],
   "source": [
    "df['English_Written'].unique()"
   ]
  },
  {
   "cell_type": "markdown",
   "id": "16fa70f8",
   "metadata": {},
   "source": [
    "Ordinal Encoding"
   ]
  },
  {
   "cell_type": "code",
   "execution_count": null,
   "id": "62a13fd7",
   "metadata": {},
   "outputs": [],
   "source": [
    "category_mapping = {'Poor': 0, 'Average': 1, 'Good': 2, 'Very Good': 3, 'Excellent': 4}\n",
    "df['English_Oral'] = df['English_Oral'].map(category_mapping)\n",
    "df['English_Written'] = df['English_Written'].map(category_mapping)\n",
    "df.head()"
   ]
  },
  {
   "cell_type": "code",
   "execution_count": null,
   "id": "6df57f68",
   "metadata": {},
   "outputs": [],
   "source": [
    "# Preprocess job titles: Remove unnecessary characters like '-' and extra spaces\n",
    "df['Job title'] = df['Job title'].str.replace('-', ' ', regex=False).str.strip()"
   ]
  },
  {
   "cell_type": "code",
   "execution_count": null,
   "id": "8949a4d5",
   "metadata": {},
   "outputs": [],
   "source": [
    "df['Job title'].unique()\n",
    "len(df['Job title'].unique())"
   ]
  },
  {
   "cell_type": "code",
   "execution_count": null,
   "id": "64f2df10",
   "metadata": {},
   "outputs": [],
   "source": [
    "from sentence_transformers import SentenceTransformer\n",
    "from sklearn.cluster import AgglomerativeClustering\n",
    "\n",
    "# Load a pre-trained model for embeddings\n",
    "model = SentenceTransformer('all-MiniLM-L6-v2')\n",
    "\n",
    "# Generate embeddings for job titles\n",
    "unique_titles = df['Job title'].unique()\n",
    "embeddings = model.encode(unique_titles)\n",
    "\n",
    "# Cluster job titles\n",
    "clustering = AgglomerativeClustering(n_clusters=None, distance_threshold=1.5)\n",
    "clusters = clustering.fit_predict(embeddings)\n",
    "\n",
    "# Map job titles to clusters\n",
    "cluster_mapping = dict(zip(unique_titles, clusters))\n",
    "df['Job Cluster'] = df['Job title'].map(cluster_mapping)\n",
    "\n",
    "# Map clusters to representative job titles\n",
    "cluster_representative = df.groupby('Job Cluster')['Job title'].apply(lambda x: x.mode()[0])\n",
    "df['Job title'] = df['Job Cluster'].map(cluster_representative)\n",
    "\n",
    "# Display both Job title and Job title2 as a separate DataFrame\n",
    "df_titles = df[['Job title', 'Job title']]\n",
    "print(df_titles.head(30))"
   ]
  },
  {
   "cell_type": "code",
   "execution_count": null,
   "id": "3265f099",
   "metadata": {},
   "outputs": [],
   "source": [
    "print(len(df['Job title'].unique()))"
   ]
  },
  {
   "cell_type": "code",
   "execution_count": null,
   "id": "574d905c",
   "metadata": {},
   "outputs": [],
   "source": [
    "df['Job title'].unique()"
   ]
  },
  {
   "cell_type": "markdown",
   "id": "ad87c93d",
   "metadata": {},
   "source": [
    "Zero-Shot Classification"
   ]
  },
  {
   "cell_type": "code",
   "execution_count": null,
   "id": "c0b9bb93",
   "metadata": {},
   "outputs": [],
   "source": [
    "# from transformers import pipeline\n",
    "\n",
    "# # Define your candidate categories\n",
    "# candidate_labels = [\n",
    "#     \"Software Engineering\", \"Data Science\", \"Data Analyst\", \"Marketing\", \"Finance\", \"Human Resources\",\n",
    "#     \"Product Management\", \"Customer Support\", \"Sales\", \"Design\", \"Operations\"\n",
    "# ]\n",
    "\n",
    "\n",
    "# # Initialize zero-shot classification pipeline\n",
    "# classifier = pipeline(\"zero-shot-classification\", model=\"joeddav/xlm-roberta-large-xnli\")\n",
    "\n",
    "# # Get unique job titles\n",
    "# unique_titles = df['Job title'].unique()\n",
    "\n",
    "# # Classify each job title\n",
    "# title_to_category = {}\n",
    "# for title in unique_titles:\n",
    "#     result = classifier(title, candidate_labels)\n",
    "#     best_label = result['labels'][0]  # Top predicted category\n",
    "#     title_to_category[title] = best_label\n",
    "\n",
    "# # Map results back to the DataFrame\n",
    "# df['Job Category'] = df['Job title'].map(title_to_category)\n",
    "\n",
    "# # Display original and categorized titles\n",
    "# df_titles = df[['Job title', 'Job Category']]\n",
    "# print(df_titles.head())"
   ]
  },
  {
   "cell_type": "code",
   "execution_count": null,
   "id": "236ff9b7",
   "metadata": {},
   "outputs": [],
   "source": [
    "df.head()"
   ]
  },
  {
   "cell_type": "code",
   "execution_count": null,
   "id": "4f866147",
   "metadata": {},
   "outputs": [],
   "source": [
    "df['Date of current appointment '] = pd.to_datetime(df['Date of current appointment '], format=\"%Y-%m\", errors='coerce').dt.to_period('M')"
   ]
  },
  {
   "cell_type": "code",
   "execution_count": null,
   "id": "1352c52d",
   "metadata": {},
   "outputs": [],
   "source": [
    "df['Date of current appointment '].dtype"
   ]
  },
  {
   "cell_type": "code",
   "execution_count": null,
   "id": "b8a698d0",
   "metadata": {},
   "outputs": [],
   "source": [
    "df = df.iloc[:,0:61]"
   ]
  },
  {
   "cell_type": "code",
   "execution_count": 78,
   "id": "bb7463d7",
   "metadata": {},
   "outputs": [
    {
     "name": "stdout",
     "output_type": "stream",
     "text": [
      "<class 'pandas.core.frame.DataFrame'>\n",
      "RangeIndex: 363 entries, 0 to 362\n",
      "Data columns (total 61 columns):\n",
      " #   Column                                                          Non-Null Count  Dtype    \n",
      "---  ------                                                          --------------  -----    \n",
      " 0   Type of Degree                                                  363 non-null    object   \n",
      " 1   Department                                                      363 non-null    object   \n",
      " 2   Honor Grade of Degree                                           363 non-null    object   \n",
      " 3   Job title                                                       363 non-null    object   \n",
      " 4   Type of employment                                              363 non-null    object   \n",
      " 5   Sector                                                          363 non-null    object   \n",
      " 6   Date of current appointment                                     282 non-null    period[M]\n",
      " 7   Monthly Salary (Rs-)                                            308 non-null    float64  \n",
      " 8   From_Newspaper                                                  363 non-null    int64    \n",
      " 9   From_Gazette                                                    363 non-null    int64    \n",
      " 10  From_Online                                                     363 non-null    int64    \n",
      " 11  From_personal contacts                                          363 non-null    int64    \n",
      " 12  From_Competitive exam                                           363 non-null    int64    \n",
      " 13  From_Via internship (training)                                  363 non-null    int64    \n",
      " 14  From_Via university                                             363 non-null    int64    \n",
      " 15  From_Job fair/Career Guidance                                   363 non-null    int64    \n",
      " 16  From_Continuing with same job held during university education  363 non-null    int64    \n",
      " 17  From_Other                                                      363 non-null    int64    \n",
      " 18  Factor_Degree                                                   363 non-null    int64    \n",
      " 19  Factor_Class of degree                                          363 non-null    int64    \n",
      " 20  Factor_University Project                                       363 non-null    int64    \n",
      " 21  Factor_Reputation of university                                 363 non-null    int64    \n",
      " 22  Factor_Field of study                                           363 non-null    int64    \n",
      " 23  Factor_Research experience                                      363 non-null    int64    \n",
      " 24  Factor_Personal contacts                                        363 non-null    int64    \n",
      " 25  Factor_Previous work experience                                 363 non-null    int64    \n",
      " 26  Factor_English proficiency                                      363 non-null    int64    \n",
      " 27  Factor_Other professional qualifications                        363 non-null    int64    \n",
      " 28  Factor_Soft skills                                              363 non-null    int64    \n",
      " 29  Factor_Computer literacy                                        363 non-null    int64    \n",
      " 30  Factor_Other                                                    363 non-null    int64    \n",
      " 31  Additional qualifications                                       363 non-null    int64    \n",
      " 32  Completed_Diploma                                               363 non-null    int64    \n",
      " 33  Completed_M-Sc-                                                 363 non-null    int64    \n",
      " 34  Completed_M-Phil-                                               363 non-null    int64    \n",
      " 35  Completed_MBA                                                   363 non-null    int64    \n",
      " 36  Completed_Ph-D-                                                 363 non-null    int64    \n",
      " 37  Completed_LL-B-                                                 363 non-null    int64    \n",
      " 38  Completed_CIMA                                                  363 non-null    int64    \n",
      " 39  Completed_Chartered Accountancy                                 363 non-null    int64    \n",
      " 40  Completed_CMA                                                   363 non-null    int64    \n",
      " 41  Completed_Other                                                 363 non-null    int64    \n",
      " 42  Reading_Diploma                                                 363 non-null    int64    \n",
      " 43  Reading_M-Sc-                                                   363 non-null    int64    \n",
      " 44  Reading_M-Phil-                                                 363 non-null    int64    \n",
      " 45  Reading_MBA                                                     363 non-null    int64    \n",
      " 46  Reading_Ph-D-                                                   363 non-null    int64    \n",
      " 47  Reading_LL-B-                                                   363 non-null    int64    \n",
      " 48  Reading_CIMA                                                    363 non-null    int64    \n",
      " 49  Reading_Chartered Accountancy                                   363 non-null    int64    \n",
      " 50  Reading_CMA                                                     363 non-null    int64    \n",
      " 51  Reading_Other                                                   363 non-null    int64    \n",
      " 52  English_Oral                                                    363 non-null    int64    \n",
      " 53  English_Written                                                 363 non-null    int64    \n",
      " 54  Student Associations                                            363 non-null    int64    \n",
      " 55  Organizing Workshops & Seminars                                 363 non-null    int64    \n",
      " 56  Charities                                                       363 non-null    int64    \n",
      " 57  Sports                                                          363 non-null    int64    \n",
      " 58  Cultural Activities                                             363 non-null    int64    \n",
      " 59  Other                                                           363 non-null    int64    \n",
      " 60  Award/Achievement                                               71 non-null     object   \n",
      "dtypes: float64(1), int64(52), object(7), period[M](1)\n",
      "memory usage: 173.1+ KB\n"
     ]
    }
   ],
   "source": [
    "df.info()"
   ]
  },
  {
   "cell_type": "code",
   "execution_count": null,
   "id": "0b0c7d3d",
   "metadata": {},
   "outputs": [],
   "source": [
    "df.to_excel('cleaned_data.xlsx', index=False, header=True)"
   ]
  },
  {
   "cell_type": "markdown",
   "id": "ab9d32d8",
   "metadata": {},
   "source": [
    "manually replace 353th datetime into 2019-05"
   ]
  }
 ],
 "metadata": {
  "kernelspec": {
   "display_name": "env",
   "language": "python",
   "name": "python3"
  },
  "language_info": {
   "codemirror_mode": {
    "name": "ipython",
    "version": 3
   },
   "file_extension": ".py",
   "mimetype": "text/x-python",
   "name": "python",
   "nbconvert_exporter": "python",
   "pygments_lexer": "ipython3",
   "version": "3.12.10"
  }
 },
 "nbformat": 4,
 "nbformat_minor": 5
}
